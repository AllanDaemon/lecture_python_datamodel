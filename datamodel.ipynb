{
 "cells": [
  {
   "cell_type": "code",
   "execution_count": 5,
   "metadata": {
    "collapsed": false
   },
   "outputs": [
    {
     "data": {
      "text/plain": [
       "<Response [200]>"
      ]
     },
     "execution_count": 5,
     "metadata": {},
     "output_type": "execute_result"
    }
   ],
   "source": [
    "import re\n",
    "import sys\n",
    "import BaseHTTPServer\n",
    "import requests\n",
    "\n",
    "r = requests.get(\"https://api.ipify.org\")\n",
    "r"
   ]
  },
  {
   "cell_type": "markdown",
   "metadata": {},
   "source": [
    "# objects & class"
   ]
  },
  {
   "cell_type": "code",
   "execution_count": 6,
   "metadata": {
    "collapsed": true
   },
   "outputs": [],
   "source": [
    "class C(object):\n",
    "    def __init__(self):\n",
    "        self._x = None\n",
    "\n",
    "    @property\n",
    "    def x(self):\n",
    "        \"\"\"I'm the 'x' property.\"\"\"\n",
    "        return self._x\n",
    "\n",
    "    @x.setter\n",
    "    def x(self, value):\n",
    "        self._x = value\n",
    "\n",
    "    @x.deleter\n",
    "    def x(self):\n",
    "        del self._x"
   ]
  },
  {
   "cell_type": "code",
   "execution_count": 7,
   "metadata": {
    "collapsed": false
   },
   "outputs": [
    {
     "name": "stdout",
     "output_type": "stream",
     "text": [
      "None\n",
      "10\n"
     ]
    }
   ],
   "source": [
    "c = C()\n",
    "print c.x\n",
    "c.x = 10\n",
    "print c.x"
   ]
  },
  {
   "cell_type": "code",
   "execution_count": 8,
   "metadata": {
    "collapsed": false
   },
   "outputs": [
    {
     "ename": "AttributeError",
     "evalue": "'C' object has no attribute '_x'",
     "output_type": "error",
     "traceback": [
      "\u001b[0;31m---------------------------------------------------------------------------\u001b[0m",
      "\u001b[0;31mAttributeError\u001b[0m                            Traceback (most recent call last)",
      "\u001b[0;32m<ipython-input-8-5e9b524bd448>\u001b[0m in \u001b[0;36m<module>\u001b[0;34m()\u001b[0m\n\u001b[1;32m      1\u001b[0m \u001b[0;32mdel\u001b[0m \u001b[0mc\u001b[0m\u001b[0;34m.\u001b[0m\u001b[0mx\u001b[0m\u001b[0;34m\u001b[0m\u001b[0m\n\u001b[0;32m----> 2\u001b[0;31m \u001b[0;32mprint\u001b[0m \u001b[0mc\u001b[0m\u001b[0;34m.\u001b[0m\u001b[0mx\u001b[0m\u001b[0;34m\u001b[0m\u001b[0m\n\u001b[0m",
      "\u001b[0;32m<ipython-input-6-20cbd9e545d9>\u001b[0m in \u001b[0;36mx\u001b[0;34m(self)\u001b[0m\n\u001b[1;32m      6\u001b[0m     \u001b[0;32mdef\u001b[0m \u001b[0mx\u001b[0m\u001b[0;34m(\u001b[0m\u001b[0mself\u001b[0m\u001b[0;34m)\u001b[0m\u001b[0;34m:\u001b[0m\u001b[0;34m\u001b[0m\u001b[0m\n\u001b[1;32m      7\u001b[0m         \u001b[0;34m\"\"\"I'm the 'x' property.\"\"\"\u001b[0m\u001b[0;34m\u001b[0m\u001b[0m\n\u001b[0;32m----> 8\u001b[0;31m         \u001b[0;32mreturn\u001b[0m \u001b[0mself\u001b[0m\u001b[0;34m.\u001b[0m\u001b[0m_x\u001b[0m\u001b[0;34m\u001b[0m\u001b[0m\n\u001b[0m\u001b[1;32m      9\u001b[0m \u001b[0;34m\u001b[0m\u001b[0m\n\u001b[1;32m     10\u001b[0m     \u001b[0;34m@\u001b[0m\u001b[0mx\u001b[0m\u001b[0;34m.\u001b[0m\u001b[0msetter\u001b[0m\u001b[0;34m\u001b[0m\u001b[0m\n",
      "\u001b[0;31mAttributeError\u001b[0m: 'C' object has no attribute '_x'"
     ]
    }
   ],
   "source": [
    "del c.x\n",
    "print c.x"
   ]
  },
  {
   "cell_type": "code",
   "execution_count": null,
   "metadata": {
    "collapsed": false
   },
   "outputs": [],
   "source": [
    "c.x = 20\n",
    "print c.x"
   ]
  },
  {
   "cell_type": "markdown",
   "metadata": {},
   "source": [
    "# Special Attributes\n",
    "\n",
    "## `object.__dict__`\n",
    "    \n",
    "A dictionary or other mapping object used to store an object’s (writable) attributes.\n",
    "\n",
    "`vars(obj)`\n",
    "\n",
    "`dir(obj)`"
   ]
  },
  {
   "cell_type": "code",
   "execution_count": null,
   "metadata": {
    "collapsed": false
   },
   "outputs": [],
   "source": [
    "r.__dict__"
   ]
  },
  {
   "cell_type": "code",
   "execution_count": null,
   "metadata": {
    "collapsed": false
   },
   "outputs": [],
   "source": [
    "dir(r)"
   ]
  },
  {
   "cell_type": "markdown",
   "metadata": {},
   "source": [
    "## instance.__class__\n",
    "The class to which a class instance belongs."
   ]
  },
  {
   "cell_type": "code",
   "execution_count": null,
   "metadata": {
    "collapsed": false
   },
   "outputs": [],
   "source": [
    "(10).__class__"
   ]
  },
  {
   "cell_type": "code",
   "execution_count": null,
   "metadata": {
    "collapsed": false
   },
   "outputs": [],
   "source": [
    "\"Hi\".__class__"
   ]
  },
  {
   "cell_type": "code",
   "execution_count": null,
   "metadata": {
    "collapsed": false
   },
   "outputs": [],
   "source": [
    "requests.__class__"
   ]
  },
  {
   "cell_type": "code",
   "execution_count": null,
   "metadata": {
    "collapsed": false
   },
   "outputs": [],
   "source": [
    "r.__class__"
   ]
  },
  {
   "cell_type": "code",
   "execution_count": null,
   "metadata": {
    "collapsed": false
   },
   "outputs": [],
   "source": [
    "type(r)"
   ]
  },
  {
   "cell_type": "markdown",
   "metadata": {},
   "source": [
    "## class.__bases__\n",
    "The tuple of base classes of a class object."
   ]
  },
  {
   "cell_type": "code",
   "execution_count": null,
   "metadata": {
    "collapsed": false
   },
   "outputs": [],
   "source": [
    "type(r).__bases__"
   ]
  },
  {
   "cell_type": "code",
   "execution_count": null,
   "metadata": {
    "collapsed": false
   },
   "outputs": [],
   "source": [
    "BaseHTTPServer.HTTPServer.__bases__"
   ]
  },
  {
   "cell_type": "code",
   "execution_count": null,
   "metadata": {
    "collapsed": false
   },
   "outputs": [],
   "source": [
    "BaseHTTPServer.BaseHTTPRequestHandler.__bases__"
   ]
  },
  {
   "cell_type": "markdown",
   "metadata": {},
   "source": [
    "## definition.__name__\n",
    "The name of the class, function, method, descriptor, or generator instance."
   ]
  },
  {
   "cell_type": "code",
   "execution_count": null,
   "metadata": {
    "collapsed": false
   },
   "outputs": [],
   "source": [
    "BaseHTTPServer.BaseHTTPRequestHandler.__name__\n"
   ]
  },
  {
   "cell_type": "code",
   "execution_count": null,
   "metadata": {
    "collapsed": false
   },
   "outputs": [],
   "source": [
    "type(r).__name__"
   ]
  },
  {
   "cell_type": "markdown",
   "metadata": {},
   "source": [
    "## definition.__qualname__\n",
    "The qualified name of the class, function, method, descriptor, or generator instance. #py3.3\n",
    "\n",
    "## class.__mro__\n",
    "This attribute is a tuple of classes that are considered when looking for base classes during method resolution.\n",
    "\n",
    "## class.mro()\n",
    "This method can be overridden by a metaclass to customize the method resolution order for its instances. It is called at class instantiation, and its result is stored in __mro__.\n",
    "\n",
    "## class.__subclasses__()\n",
    "Each class keeps a list of weak references to its immediate subclasses. This method returns a list of all those references still alive."
   ]
  },
  {
   "cell_type": "code",
   "execution_count": null,
   "metadata": {
    "collapsed": false
   },
   "outputs": [],
   "source": [
    "\n",
    "int.__subclasses__()"
   ]
  },
  {
   "cell_type": "markdown",
   "metadata": {},
   "source": [
    "## `object.__metaclass__`\n",
    "## `__prepare__`\n",
    "\n",
    "\n",
    "## docstring\n",
    "\n",
    "`object.__doc__`\n",
    "\n",
    "`help()`"
   ]
  },
  {
   "cell_type": "code",
   "execution_count": null,
   "metadata": {
    "collapsed": false
   },
   "outputs": [],
   "source": [
    "print requests.__doc__"
   ]
  },
  {
   "cell_type": "code",
   "execution_count": null,
   "metadata": {
    "collapsed": false
   },
   "outputs": [],
   "source": [
    "help(requests)"
   ]
  },
  {
   "cell_type": "markdown",
   "metadata": {},
   "source": [
    "## callable\n",
    "\n",
    "####`__doc__`\n",
    "The function’s documentation string, or None if unavailable; not inherited by subclasses"
   ]
  },
  {
   "cell_type": "code",
   "execution_count": null,
   "metadata": {
    "collapsed": false
   },
   "outputs": [],
   "source": [
    "print requests.get.__doc__"
   ]
  },
  {
   "cell_type": "markdown",
   "metadata": {},
   "source": [
    "#### `__name__`\n",
    "The function’s name"
   ]
  },
  {
   "cell_type": "code",
   "execution_count": null,
   "metadata": {
    "collapsed": false
   },
   "outputs": [],
   "source": [
    "print requests.get.__name__\n"
   ]
  },
  {
   "cell_type": "markdown",
   "metadata": {},
   "source": [
    "#### __qualname__\n",
    "The function’s qualified name #py3.3"
   ]
  },
  {
   "cell_type": "markdown",
   "metadata": {},
   "source": [
    "#### __module__\n",
    "The name of the module the function was defined in, or None if unavailable."
   ]
  },
  {
   "cell_type": "code",
   "execution_count": null,
   "metadata": {
    "collapsed": false
   },
   "outputs": [],
   "source": [
    "print requests.get.__module__"
   ]
  },
  {
   "cell_type": "markdown",
   "metadata": {},
   "source": [
    "#### __defaults__\n",
    "A tuple containing default argument values for those arguments that have defaults, or None if no arguments have a default value"
   ]
  },
  {
   "cell_type": "code",
   "execution_count": null,
   "metadata": {
    "collapsed": false
   },
   "outputs": [],
   "source": [
    "def f(p1, p2='aqui', p3=None): pass\n",
    "\n",
    "f(1)\n",
    "f(1, 3)\n",
    "f.__defaults__"
   ]
  },
  {
   "cell_type": "code",
   "execution_count": null,
   "metadata": {
    "collapsed": false
   },
   "outputs": [],
   "source": [
    "print requests.get.__defaults__"
   ]
  },
  {
   "cell_type": "markdown",
   "metadata": {},
   "source": [
    "#### __code__\n",
    "The code object representing the compiled function body."
   ]
  },
  {
   "cell_type": "code",
   "execution_count": null,
   "metadata": {
    "collapsed": false
   },
   "outputs": [],
   "source": [
    "print requests.get.__code__"
   ]
  },
  {
   "cell_type": "markdown",
   "metadata": {},
   "source": [
    "#### __globals__\n",
    "Read-only\n",
    "A reference to the dictionary that holds the function’s global variables — the global namespace of the module in which the function was defined."
   ]
  },
  {
   "cell_type": "code",
   "execution_count": null,
   "metadata": {
    "collapsed": false
   },
   "outputs": [],
   "source": [
    "print requests.get.__globals__"
   ]
  },
  {
   "cell_type": "markdown",
   "metadata": {},
   "source": [
    "#### __dict__\n",
    "The namespace supporting arbitrary function attributes."
   ]
  },
  {
   "cell_type": "markdown",
   "metadata": {},
   "source": [
    "#### __closure__\n",
    "Read-only\n",
    "None or a tuple of cells that contain bindings for the function’s free variables."
   ]
  },
  {
   "cell_type": "code",
   "execution_count": null,
   "metadata": {
    "collapsed": false
   },
   "outputs": [],
   "source": [
    "def example_closure(url='www.uaihacker.club'):\n",
    "    return (lambda: requests.get(url))\n",
    "\n",
    "ec = example_closure()\n",
    "\n",
    "ec.__closure__"
   ]
  },
  {
   "cell_type": "markdown",
   "metadata": {},
   "source": [
    "#### __annotations__\n",
    "A dict containing annotations of parameters. The keys of the dict are the parameter names, and 'return' for the return annotation, if provided."
   ]
  },
  {
   "cell_type": "markdown",
   "metadata": {},
   "source": [
    "#### __kwdefaults__\n",
    "A dict containing defaults for keyword-only parameters."
   ]
  },
  {
   "cell_type": "markdown",
   "metadata": {},
   "source": [
    "# Special Methods\n",
    "\n",
    "* in class `__dict__`\n",
    "* not int instance `__dict__`."
   ]
  },
  {
   "cell_type": "markdown",
   "metadata": {},
   "source": [
    "## Basic\n",
    "\n",
    "### new\n",
    "object.__new__(cls[, ...])\n",
    "\n",
    "### init\n",
    "object.__init__(self[, ...])\n",
    "\n",
    "### del\n",
    "object.__del__(self)"
   ]
  },
  {
   "cell_type": "markdown",
   "metadata": {},
   "source": [
    "### repr\n",
    "object.__repr__(self)"
   ]
  },
  {
   "cell_type": "markdown",
   "metadata": {},
   "source": [
    "### str unicode bytes format\n",
    "object.__str__(self)\n",
    "object.__unicode__(self)\n",
    "object.__bytes__(self)\n",
    "object.__format__(self, format_spec)\t# py3"
   ]
  },
  {
   "cell_type": "markdown",
   "metadata": {},
   "source": [
    "### comparations\n",
    "object.__lt__(self, other)\n",
    "object.__le__(self, other)\n",
    "object.__eq__(self, other)\n",
    "object.__ne__(self, other)\n",
    "object.__gt__(self, other)\n",
    "object.__ge__(self, other)\n",
    "\n",
    "object.__cmp__(self, other)\t\t# py2\t# C cmp semmantics\n",
    "\n",
    "### bool\n",
    "object.__nonzero__(self)\t# py2\n",
    "object.__bool__(self)\t\t# py3\n",
    "\n",
    "### hash\n",
    "object.__hash__(self)\n",
    "\n",
    "https://docs.python.org/3.7/library/stdtypes.html#hashing-of-numeric-types"
   ]
  },
  {
   "cell_type": "code",
   "execution_count": 58,
   "metadata": {
    "collapsed": false
   },
   "outputs": [
    {
     "name": "stdout",
     "output_type": "stream",
     "text": [
      "foi\n"
     ]
    }
   ],
   "source": [
    "class A(object):\n",
    "\n",
    "    def __init__(self, p):\n",
    "        self.v = p\n",
    "\n",
    "    def __eq__(self, other):\n",
    "        print \"CHAMANDO EQ\"\n",
    "        return self.v == other.v\n",
    "\n",
    "    def __nonzero__(self):\n",
    "        print \"Sim\"\n",
    "        return self.v\n",
    "    print 'foi'\n",
    "    \n",
    "\n",
    "#     def __dir__(self):\n",
    "#         return [None, 'nada aqui']\n",
    "\n",
    "\n",
    "    def __enter__(self):\n",
    "        print 'Entrando'\n",
    "\n",
    "    def __exit__(self, exc_type, exc_value, traceback):\n",
    "        print \"Saindo\", exc_value, traceback\n",
    "        \n",
    "\n",
    "\n",
    "x = A(10)\n",
    "y = A(20)\n",
    "z = A(20)\n"
   ]
  },
  {
   "cell_type": "code",
   "execution_count": 59,
   "metadata": {
    "collapsed": false
   },
   "outputs": [
    {
     "name": "stdout",
     "output_type": "stream",
     "text": [
      "Entrando\n",
      "meio\n",
      "Saindo  <traceback object at 0x7fe648d54ab8>\n"
     ]
    },
    {
     "ename": "Exception",
     "evalue": "",
     "output_type": "error",
     "traceback": [
      "\u001b[0;31m---------------------------------------------------------------------------\u001b[0m",
      "\u001b[0;31mException\u001b[0m                                 Traceback (most recent call last)",
      "\u001b[0;32m<ipython-input-59-509d4ba07421>\u001b[0m in \u001b[0;36m<module>\u001b[0;34m()\u001b[0m\n\u001b[1;32m      1\u001b[0m \u001b[0;32mwith\u001b[0m \u001b[0mx\u001b[0m\u001b[0;34m:\u001b[0m\u001b[0;34m\u001b[0m\u001b[0m\n\u001b[1;32m      2\u001b[0m     \u001b[0;32mprint\u001b[0m \u001b[0;34m'meio'\u001b[0m\u001b[0;34m\u001b[0m\u001b[0m\n\u001b[0;32m----> 3\u001b[0;31m     \u001b[0;32mraise\u001b[0m \u001b[0mException\u001b[0m\u001b[0;34m(\u001b[0m\u001b[0;34m)\u001b[0m\u001b[0;34m\u001b[0m\u001b[0m\n\u001b[0m\u001b[1;32m      4\u001b[0m     \u001b[0;32mprint\u001b[0m \u001b[0;34m' aqui nao'\u001b[0m\u001b[0;34m\u001b[0m\u001b[0m\n",
      "\u001b[0;31mException\u001b[0m: "
     ]
    }
   ],
   "source": [
    "with x:\n",
    "    print 'meio'\n",
    "    raise Exception()\n",
    "    print ' aqui nao'"
   ]
  },
  {
   "cell_type": "code",
   "execution_count": 32,
   "metadata": {
    "collapsed": false
   },
   "outputs": [
    {
     "name": "stdout",
     "output_type": "stream",
     "text": [
      "Sim\n",
      "EH\n"
     ]
    }
   ],
   "source": [
    "if x: print \"EH\"\n",
    "else: print \"N EH\""
   ]
  },
  {
   "cell_type": "markdown",
   "metadata": {},
   "source": [
    "## Attribute Access\n",
    "\n",
    "`x.name`\n",
    "\n",
    "object.__getattr__(self, name)\t\t# Not always called (just when not found in ...)\n",
    "object.__getattribute__(self, name)\t\t# New style class. Always called\n",
    "object.__setattr__(self, name, value)\n",
    "object.__delattr__(self, name)\n",
    "object.__dir__(self)\n",
    "\n",
    "https://docs.python.org/2/reference/datamodel.html#new-style-special-lookup"
   ]
  },
  {
   "cell_type": "code",
   "execution_count": 38,
   "metadata": {
    "collapsed": false
   },
   "outputs": [
    {
     "data": {
      "text/plain": [
       "[None, 'nada aqui']"
      ]
     },
     "execution_count": 38,
     "metadata": {},
     "output_type": "execute_result"
    }
   ],
   "source": [
    "dir(x)"
   ]
  },
  {
   "cell_type": "markdown",
   "metadata": {},
   "source": [
    "### Descriptors\n",
    "object.__get__(self, instance, owner)\n",
    "object.__set__(self, instance, value)\n",
    "object.__delete__(self, instance)\n",
    "object.__set_name__(self, owner, name)\t\t# py3.6\n",
    "\n",
    "*** PYTHON WAY OF LOOKUP *** (invoking descriptors)\n",
    "\n",
    "### __slots__"
   ]
  },
  {
   "cell_type": "markdown",
   "metadata": {},
   "source": [
    "## Class Creation\n",
    "\n",
    "### Checking\n",
    "class.__instancecheck__(self, instance)\n",
    "class.__subclasscheck__(self, subclass)\n",
    "\n",
    "isinstance(object, classinfo)\n",
    "issubclass(class, classinfo)"
   ]
  },
  {
   "cell_type": "markdown",
   "metadata": {},
   "source": [
    "## Callable Objects\n",
    "object.__call__(self[, args...])\n",
    "x(arg1, arg2, ...) is a shorthand for x.__call__(arg1, arg2, ...)"
   ]
  },
  {
   "cell_type": "markdown",
   "metadata": {},
   "source": [
    "## Container Types\n",
    "\n",
    "object.__len__(self)\n",
    "object.__getitem__(self, key)\t# IndexError, KeyError\n",
    "object.__missing__(self, key)\n",
    "object.__setitem__(self, key, value)\n",
    "object.__delitem__(self, key)\n",
    "object.__iter__(self)\n",
    "object.__reversed__(self)\n",
    "object.__contains__(self, item)\n",
    "\n",
    "object.__length_hint__(self) \t# py3.4\n",
    "\n",
    "* Note: getslice, setslice, delslice deprecated since py2.0"
   ]
  },
  {
   "cell_type": "markdown",
   "metadata": {},
   "source": [
    "## Numeric\n",
    "\n",
    "\n",
    "### Normal\n",
    "\n",
    "object.__add__(self, other)\n",
    "object.__sub__(self, other)\n",
    "object.__mul__(self, other)\n",
    "object.__matmul__(self, other)\t\t# py3.5\n",
    "object.__div__(self, other)\t\t\t# py2: /\n",
    "object.__truediv__(self, other)\t\t# py2: future, py3: /\n",
    "object.__floordiv__(self, other)\t# //\n",
    "object.__mod__(self, other)\n",
    "object.__divmod__(self, other)\n",
    "object.__pow__(self, other[, modulo])\n",
    "object.__lshift__(self, other)\n",
    "object.__rshift__(self, other)\n",
    "object.__and__(self, other)\n",
    "object.__xor__(self, other)\n",
    "object.__or__(self, other)\n",
    "\n",
    "### Reflected\n",
    "object.__radd__(self, other)\n",
    "object.__rsub__(self, other)\n",
    "object.__rmul__(self, other)\n",
    "object.__rmatmul__(self, other)\n",
    "object.__rdiv__(self, other)\n",
    "object.__rtruediv__(self, other)\n",
    "object.__rfloordiv__(self, other)\n",
    "object.__rmod__(self, other)\n",
    "object.__rdivmod__(self, other)\n",
    "object.__rpow__(self, other)\n",
    "object.__rlshift__(self, other)\n",
    "object.__rrshift__(self, other)\n",
    "object.__rand__(self, other)\n",
    "object.__rxor__(self, other)\n",
    "object.__ror__(self, other)\n",
    "\n",
    "### In-place\n",
    "object.__iadd__(self, other)\n",
    "object.__isub__(self, other)\n",
    "object.__imul__(self, other)\n",
    "object.__imatmul__(self, other)\n",
    "object.__itruediv__(self, other)\n",
    "object.__ifloordiv__(self, other)\n",
    "object.__imod__(self, other)\n",
    "object.__ipow__(self, other[, modulo])\n",
    "object.__ilshift__(self, other)\n",
    "object.__irshift__(self, other)\n",
    "object.__iand__(self, other)\n",
    "object.__ixor__(self, other)\n",
    "object.__ior__(self, other)\n",
    "\n",
    "### Unary\n",
    "object.__neg__(self)\n",
    "object.__pos__(self)\n",
    "object.__abs__(self)\n",
    "object.__invert__(self)\n",
    "\n",
    "### Builtins\n",
    "object.__complex__(self)\n",
    "object.__int__(self)\n",
    "object.__long__(self)\t# py2\n",
    "object.__float__(self)\n",
    "object.__round__(self[, n])\t# py3?\n",
    "\n",
    "### Convertion\n",
    "object.__oct__(self)\t# 2\n",
    "object.__hex__(self)\t# 2\n",
    "object.__coerce__(self, other)\n",
    "\n",
    "#### Coercion Rules\n",
    "No. Really.\n",
    "\n",
    "### Index\n",
    "object.__index__(self)"
   ]
  },
  {
   "cell_type": "markdown",
   "metadata": {},
   "source": [
    "## With Statement Context Managers\n",
    "\n",
    "`object.__enter__(self)`\n",
    "\n",
    "`object.__exit__(self, exc_type, exc_value, traceback)`"
   ]
  },
  {
   "cell_type": "markdown",
   "metadata": {},
   "source": [
    "## Py 3 Async\n",
    "\n",
    "### Coroutines\n",
    "`object.__await__(self)`\n",
    "\n",
    "### Asynchronous Iterators\n",
    "\n",
    "`object.__aiter__(self)`\n",
    "\n",
    "`object.__anext__(self)`\n",
    "\n",
    "### Asynchronous Context Managers\n",
    "\n",
    "`object.__aenter__(self)`\n",
    "\n",
    "`object.__aexit__(self, exc_type, exc_value, traceback)`"
   ]
  },
  {
   "cell_type": "code",
   "execution_count": null,
   "metadata": {
    "collapsed": true
   },
   "outputs": [],
   "source": []
  }
 ],
 "metadata": {
  "celltoolbar": "Slideshow",
  "kernelspec": {
   "display_name": "Python 2",
   "language": "python",
   "name": "python2"
  },
  "language_info": {
   "codemirror_mode": {
    "name": "ipython",
    "version": 2
   },
   "file_extension": ".py",
   "mimetype": "text/x-python",
   "name": "python",
   "nbconvert_exporter": "python",
   "pygments_lexer": "ipython2",
   "version": "2.7.12+"
  }
 },
 "nbformat": 4,
 "nbformat_minor": 1
}
